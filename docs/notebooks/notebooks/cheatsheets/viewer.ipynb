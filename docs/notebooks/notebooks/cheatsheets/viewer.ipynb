{
 "cells": [
  {
   "cell_type": "code",
   "execution_count": null,
   "metadata": {},
   "outputs": [],
   "source": [
    "dict(\n",
    "    author=\"Rob Stenson\",\n",
    "    date=\"1/6/2023\",\n",
    "    title=\"Viewer\",\n",
    ")"
   ]
  },
  {
   "attachments": {},
   "cell_type": "markdown",
   "metadata": {},
   "source": [
    "## Viewer Cheatsheet\n",
    "\n",
    "The most common viewer shortcuts:\n",
    "\n",
    "* ``spacebar`` play the animation\n",
    "* ``<left>`` go back one frame\n",
    "* ``<right>`` go forward one frame\n",
    "* ``shift+<left>`` go back ten frames\n",
    "* ``shift+<right>`` go forward ten frames\n",
    "* ``a`` render all the frames of the animation to disk\n",
    "* ``cmd+a`` render just the current frame to disk\n",
    "* ``,`` display the rendered version of a frame (and hit ``,`` again to display the live version) — in general this is useful if you want to play the disk-rendered version of an animation (for playing back at correct framerate/speed if animation generation is complex & consequently not realtime)\n",
    "* ``.`` toggle audio support (if you have the ``[audio]`` extra successfully installed)\n",
    "* ``<home>`` go to frame 0\n",
    "* ``q`` quits viewer and kills running coldtype program (equivalent to ctrl-c in command-line or hitting the X in the viewer window)\n",
    "\n",
    "* ``r`` trigger an arbitrary ``release`` function defined in your source\n",
    "* ``b`` trigger an arbitrary ``build`` function defined in your source\n",
    "\n",
    "Utilities:\n",
    "\n",
    "* ``v`` opens the automatic timeline viewer (only applicable for animations, mostly used for MIDI and AsciiTimeline-based animations)\n",
    "* ``p`` prints the current tree\n",
    "* ``u`` loads the next file in the directory (sorted alphabetically)\n",
    "* ``y`` loads the previous file in the directory (sorted alphabetically)\n",
    "* ``s`` shows the current file output directory in the finder\n",
    "\n",
    "\n",
    "Command-line window modifications\n",
    "---------------------------------\n",
    "\n",
    "To \"pin\" the window to corner of your screen, use the window-pin ``-wp`` argument and pass a compass direction (NE, SE, SW, NW), i.e. ``coldtype my-program.py -wp SE`` to have the window appear in the south-east corner of your screen\n",
    "\n",
    "To remove the window background and chrome and make the window itself completely transparent, pass ``-wt 1`` as an argument, i.e. ``coldtype my-program.py -wt 1``\n",
    "\n",
    "To change the initial scale of the window, pass the preview-scale argument ``-ps 2`` (for example), to get a double-sized window, i.e. ``coldtype my-program.py -ps 2``\n",
    "\n",
    "To change the opacity of your graphics displayed in the window, pass the window-opacity argument ``-wo 0.5`` (for example), to get a half-transparent window, i.e. ``coldtype my-program.py -wo 0.5``\n",
    "\n",
    "(All of these arguments can be combined, i.e. a window pinned to the south-west corner of your screen, with no background, 0.75 transparency, and a default size of 0.5x, would be: ``coldtype my-program.py -wt 1 -wp SW -wo 0.75 -ps 0.5``)"
   ]
  }
 ],
 "metadata": {
  "kernelspec": {
   "display_name": "venv",
   "language": "python",
   "name": "python3"
  },
  "language_info": {
   "name": "python",
   "version": "3.10.5 (v3.10.5:f377153967, Jun  6 2022, 12:36:10) [Clang 13.0.0 (clang-1300.0.29.30)]"
  },
  "orig_nbformat": 4,
  "vscode": {
   "interpreter": {
    "hash": "10cf79b6252b6bfa5f219a04587890ec267e7f2fde6b173960de4ad2915a3b2e"
   }
  }
 },
 "nbformat": 4,
 "nbformat_minor": 2
}
