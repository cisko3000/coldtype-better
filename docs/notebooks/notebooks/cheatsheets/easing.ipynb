{
 "cells": [
  {
   "cell_type": "code",
   "execution_count": null,
   "metadata": {},
   "outputs": [],
   "source": [
    "dict(\n",
    "    author=\"Rob Stenson\",\n",
    "    title=\"Easing\",\n",
    "    date=\"1/6/2023\",\n",
    ")"
   ]
  },
  {
   "attachments": {},
   "cell_type": "markdown",
   "metadata": {},
   "source": [
    "## Easing Cheatsheet\n",
    "\n",
    "In the context of easing, the first letter of an easing mnemonic refers to the type of curve, listed from gentlest to steepest:\n",
    "\n",
    "* **q** == \"quadratic\"\n",
    "* **s** == \"sine\"\n",
    "* **c** == \"cubic\"\n",
    "* **e** == \"exponential\"\n",
    "\n",
    "The ending of a mnemonic refers to the entry/exit of the curve:\n",
    "\n",
    "* **eio** == \"ease-in-out\"\n",
    "* **ei** == \"ease-in\"\n",
    "* **eo** == \"ease-out\"\n",
    "\n",
    "Put together you get can mnemonics like these:\n",
    "\n",
    "* **eeio** == \"exponential-ease-in-out\"\n",
    "* **ceo** == \"cubic-ease-out\"\n",
    "* **sei** == \"sine-ease-in\"\n",
    "\n",
    "etc.\n",
    "\n",
    "Given a frame object ``f`` in an ``@animation`` renderable:\n",
    "\n",
    "```python\n",
    "from coldtype import *\n",
    "\n",
    "@animation(timeline=60) # duration of 60 frames\n",
    "def easing_example(f):\n",
    "    square = P(f.a.r.inset(300)).f(0)\n",
    "    return square.rotate(f.e(\"eeio\", 1, rng=(-10, 10)))\n",
    "```\n",
    "\n",
    "In the line ``f.e(\"eeio\", 1, rng=(-10, 10))``, the ``1`` refers to the number of loops, and the ``rng=`` sets a range of values that will be traversed by the easing. By default, this value is rng=(0, 1), so the value would cycle back and forth between 0 and 1 **one-time** (loops=1) over the course of the animation's duration. If you set loops to 0, the value would traverse from 0 to 1 in only one direction and not return to 0 (meaning the value would \"pop\" back to 0 when the animation itself loops.)"
   ]
  }
 ],
 "metadata": {
  "kernelspec": {
   "display_name": "venv",
   "language": "python",
   "name": "python3"
  },
  "language_info": {
   "name": "python",
   "version": "3.10.5 (v3.10.5:f377153967, Jun  6 2022, 12:36:10) [Clang 13.0.0 (clang-1300.0.29.30)]"
  },
  "orig_nbformat": 4,
  "vscode": {
   "interpreter": {
    "hash": "10cf79b6252b6bfa5f219a04587890ec267e7f2fde6b173960de4ad2915a3b2e"
   }
  }
 },
 "nbformat": 4,
 "nbformat_minor": 2
}
