{
 "cells": [
  {
   "cell_type": "code",
   "execution_count": null,
   "metadata": {},
   "outputs": [],
   "source": [
    "dict(\n",
    "    author=\"Rob Stenson\",\n",
    "    title=\"One Letters\",\n",
    "    date=\"1/6/2023\",\n",
    ")"
   ]
  },
  {
   "attachments": {},
   "cell_type": "markdown",
   "metadata": {},
   "source": [
    "## One-letter abbreviations\n",
    "\n",
    "Here are some common one-letter abbreviations you'll find throughout idiomatic Coldtype code.\n",
    "\n",
    "* ``e`` usually refers to \"easing\", as in the ``f.e`` function (frame.easing)\n",
    "* ``f`` usually refers, when used as a variable, to the ``Frame`` object that is passed to an ``@animation`` renderable.\n",
    "* ``.f`` refers, when used as a function, to *fill*, as in the fill color of a path\n",
    "* ``.s`` refers, when used as a function, to *stroke*, and ``.sw`` refers to *stroke width*\n",
    "* ``r`` usually refers, when used as a variable, to the ``Rect`` object that is passed to a ``@renderable`` renderable.\n",
    "* ``f.a.r`` is a common shorthand for frame.animation.rect, i.e. the rectangle frame of an ``@animation`` renderable."
   ]
  }
 ],
 "metadata": {
  "language_info": {
   "name": "python"
  },
  "orig_nbformat": 4
 },
 "nbformat": 4,
 "nbformat_minor": 2
}
