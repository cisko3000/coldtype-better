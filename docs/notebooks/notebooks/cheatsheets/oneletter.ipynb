{
 "cells": [
  {
   "cell_type": "code",
   "execution_count": null,
   "metadata": {},
   "outputs": [],
   "source": [
    "dict(\n",
    "    author=\"Rob Stenson\",\n",
    "    title=\"One Letters\",\n",
    "    date=\"1/6/2023\",\n",
    ")"
   ]
  },
  {
   "attachments": {},
   "cell_type": "markdown",
   "metadata": {},
   "source": [
    "## One-letter abbreviations\n",
    "\n",
    "Here are some common one-letter abbreviations you'll find throughout idiomatic Coldtype code.\n",
    "\n",
    "* ``e`` usually refers to \"easing\", as in the ``f.e`` function (frame.easing)\n",
    "* ``f`` usually refers, when used as a variable, to the ``Frame`` object that is passed to an ``@animation`` renderable.\n",
    "* ``.f`` refers, when used as a function, to *fill*, as in the fill color of a path\n",
    "* ``.s`` refers, when used as a function, to *stroke*, and ``.sw`` refers to *stroke width*\n",
    "* ``r`` usually refers, when used as a variable, to the ``Rect`` object that is passed to a ``@renderable`` renderable.\n",
    "* ``f.a.r`` is a common shorthand for frame.animation.rect, i.e. the rectangle frame of an ``@animation`` renderable."
   ]
  }
 ],
 "metadata": {
  "kernelspec": {
   "display_name": "venv",
   "language": "python",
   "name": "python3"
  },
  "language_info": {
   "name": "python",
   "version": "3.10.5 (v3.10.5:f377153967, Jun  6 2022, 12:36:10) [Clang 13.0.0 (clang-1300.0.29.30)]"
  },
  "orig_nbformat": 4,
  "vscode": {
   "interpreter": {
    "hash": "10cf79b6252b6bfa5f219a04587890ec267e7f2fde6b173960de4ad2915a3b2e"
   }
  }
 },
 "nbformat": 4,
 "nbformat_minor": 2
}
